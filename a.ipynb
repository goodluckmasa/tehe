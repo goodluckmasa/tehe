{
  "cells": [
    {
      "cell_type": "code",
      "execution_count": null,
      "metadata": {
        "id": "WJe71S6gbzt3"
      },
      "outputs": [],
      "source": [
        "!nvidia-smi"
      ]
    },
    {
      "cell_type": "markdown",
      "source": [
        "# drive"
      ],
      "metadata": {
        "id": "PsPveNEuCTbW"
      }
    },
    {
      "cell_type": "code",
      "source": [
        "from google.colab import drive\n",
        "drive.mount('/content/drive')"
      ],
      "metadata": {
        "id": "LXji2ul3oJsa"
      },
      "execution_count": null,
      "outputs": []
    },
    {
      "cell_type": "code",
      "source": [
        "!sudo add-apt-repository -y ppa:alessandro-strada/ppa 2>&1 > /dev/null\n",
        "!sudo apt-get update -qq 2>&1 > /dev/null\n",
        "!sudo apt -y install -qq google-drive-ocamlfuse 2>&1 > /dev/null\n",
        "!google-drive-ocamlfuse"
      ],
      "metadata": {
        "id": "dl8agq_KoN-A"
      },
      "execution_count": null,
      "outputs": []
    },
    {
      "cell_type": "code",
      "source": [
        "!sudo apt-get install -qq w3m # to act as web browser \n",
        "!xdg-settings set default-web-browser w3m.desktop # to set default browser\n",
        "%cd /content\n",
        "!mkdir drive\n",
        "%cd drive\n",
        "!mkdir MyDrive\n",
        "%cd ..\n",
        "%cd ..\n",
        "!google-drive-ocamlfuse /content/drive/MyDrive"
      ],
      "metadata": {
        "id": "w5I7t1x2oTnd"
      },
      "execution_count": null,
      "outputs": []
    },
    {
      "cell_type": "markdown",
      "source": [
        "# prepare"
      ],
      "metadata": {
        "id": "XX37IGimCaIA"
      }
    },
    {
      "cell_type": "code",
      "source": [
        "#@title Install\n",
        "%cd /content\n",
        "Mode = \"install\" #@param [\"install\", \"update\"]\n",
        "\n",
        "from pathlib import Path\n",
        "if (Mode == \"install\"):\n",
        "  !git clone https://github.com/goodluckmasa/bonanzi.git\n",
        "\n",
        "  # fix linux warning\n",
        "  # /usr/lib/python3.6/multiprocessing/semaphore_tracker.py:143: UserWarning: semaphore_tracker: There appear to be 1 leaked semaphores to clean up at shutdown\n",
        "  fin = open(\"/usr/lib/python3.6/multiprocessing/semaphore_tracker.py\", \"rt\")\n",
        "  data = fin.read()\n",
        "  data = data.replace('if cache:', 'if False:')\n",
        "  fin.close()\n",
        "\n",
        "  fin = open(\"/usr/lib/python3.6/multiprocessing/semaphore_tracker.py\", \"wt\")\n",
        "  fin.write(data)\n",
        "  fin.close()\n",
        "else:\n",
        "  %cd /content/bonanzi\n",
        "  !git pull\n",
        "\n",
        "\n",
        "\n",
        "!pip install tqdm\n",
        "!pip install numpy==1.20\n",
        "!pip install numexpr\n",
        "!pip install h5py==2.10.0\n",
        "!pip install opencv-python==4.1.0.25\n",
        "!pip install ffmpeg-python==0.1.17\n",
        "!pip install scikit-image==0.14.2\n",
        "!pip install scipy==1.4.1\n",
        "!pip install colorama\n",
        "!pip install tf2onnx==1.9.3\n",
        "\n",
        "if not Path(\"/content/workspace\").exists():\n",
        "  !mkdir /content/workspace; mkdir /content/workspace/data_src; mkdir /content/workspace/data_src/aligned; mkdir /content/workspace/data_dst; mkdir /content/workspace/data_dst/aligned; mkdir /content/workspace/model  \n",
        "\n",
        "import IPython\n",
        "from google.colab import output\n",
        "\n",
        "display(IPython.display.Javascript('''\n",
        " function ClickConnect(){\n",
        "   btn = document.querySelector(\"colab-connect-button\")\n",
        "   if (btn != null){\n",
        "     console.log(\"Click colab-connect-button\"); \n",
        "     btn.click() \n",
        "     }\n",
        "   \n",
        "   btn = document.getElementById('ok')\n",
        "   if (btn != null){\n",
        "     console.log(\"Click reconnect\"); \n",
        "     btn.click() \n",
        "     }\n",
        "  }\n",
        "  \n",
        "setInterval(ClickConnect,60000)\n",
        "'''))\n",
        "\n",
        "print(\"\\nDone!\")"
      ],
      "metadata": {
        "cellView": "form",
        "id": "QCGmwzZCodKH"
      },
      "execution_count": null,
      "outputs": []
    },
    {
      "cell_type": "code",
      "source": [
        "#@title extrract 1080P\n",
        "\n",
        "from pathlib import Path\n",
        "\n",
        "src_file = Path('/content/bonanzi/facelib/S3FDExtractor.py')\n",
        "dst_file = Path('/content/bonanzi/facelib/alpha.tmp')\n",
        "\n",
        "with src_file.open() as fin, \\\n",
        "     dst_file.open(mode='x') as fout:\n",
        "\n",
        "     fout.write(\n",
        "         fin.read().replace('if min(r-l,bt) < 40: #filtering faces < 40pix by any side', 'if min(r-l,bt) < 340: #filtering faces < 40pix by any side')\n",
        "     )\n",
        "\n",
        "\n",
        "dst_file.replace(\n",
        "    src_file\n",
        ")"
      ],
      "metadata": {
        "cellView": "form",
        "id": "L3jnVHoIohKx"
      },
      "execution_count": null,
      "outputs": []
    },
    {
      "cell_type": "code",
      "source": [
        "#@title extrract 2160P\n",
        "\n",
        "from pathlib import Path\n",
        "\n",
        "src_file = Path('/content/bonanzi/facelib/S3FDExtractor.py')\n",
        "dst_file = Path('/content/bonanzi/facelib/alpha.tmp')\n",
        "\n",
        "with src_file.open() as fin, \\\n",
        "     dst_file.open(mode='x') as fout:\n",
        "\n",
        "     fout.write(\n",
        "         fin.read().replace('if min(r-l,bt) < 40: #filtering faces < 40pix by any side', 'if min(r-l,bt) < 600: #filtering faces < 600pix by any side')\n",
        "     )\n",
        "\n",
        "\n",
        "dst_file.replace(\n",
        "    src_file\n",
        ")"
      ],
      "metadata": {
        "cellView": "form",
        "id": "8CtzOE4MoqlQ"
      },
      "execution_count": null,
      "outputs": []
    },
    {
      "cell_type": "markdown",
      "source": [
        "# cut"
      ],
      "metadata": {
        "id": "9TSzwNeACltS"
      }
    },
    {
      "cell_type": "code",
      "source": [
        "import shutil\n",
        "shutil.copy('','/content/workspace/data_src.mp4')\n",
        "!ffmpeg -i /content/workspace/data_src.mp4 -t 7200 -c copy former.mp4\n",
        "!ffmpeg -ss 7200 -i /content/workspace/data_src.mp4 -c copy latter.mp4\n",
        "!rm /content/workspace/data_src.mp4"
      ],
      "metadata": {
        "id": "g6HIGudPo44N"
      },
      "execution_count": null,
      "outputs": []
    },
    {
      "cell_type": "markdown",
      "source": [
        "# set"
      ],
      "metadata": {
        "id": "wer-RsoJCq4Y"
      }
    },
    {
      "cell_type": "code",
      "source": [
        "import shutil\n",
        "shutil.copy('','/content/workspace/data_src.mp4')\n",
        "\n",
        "!python /content/bonanzi/main.py videoed extract-video --input-file /content/workspace/data_src.* --fps 12 --output-ext jpg --output-dir /content/workspace/data_src/"
      ],
      "metadata": {
        "id": "hrJivnvZpFAO"
      },
      "execution_count": null,
      "outputs": []
    },
    {
      "cell_type": "code",
      "source": [
        "!rm -r /content/workspace/data_src.mp4\n",
        "import os\n",
        "import glob\n",
        "path = \"/content/workspace/data_src\"\n",
        "files = glob.glob(path + '/*.jpg')\n",
        "for f in files:\n",
        "    os.rename(f, os.path.join(path, 'las' + os.path.basename(f)))"
      ],
      "metadata": {
        "id": "eo1QWgSdpIcu"
      },
      "execution_count": null,
      "outputs": []
    },
    {
      "cell_type": "code",
      "source": [
        "!python /content/bonanzi/main.py extract --max-faces-from-image 2 --image-size 640 --jpeg-quality 100 --input-dir /content/workspace/data_src --output-dir /content/workspace/data_src/aligned --force-gpu-idxs 0 --face-type whole_face --detector s3fd --no-output-debug\n",
        "\n",
        "!python /content/bonanzi/main.py util --input-dir /content/workspace/data_src/aligned  --pack-faceset --archive-type pak\n",
        "\n",
        "!install -D /content/workspace/data_src/aligned/faceset.pak /content/drive/MyDrive/work//faceset.pak\n",
        "\n",
        "!rm -r /content/workspace/data_src"
      ],
      "metadata": {
        "id": "rXNBWqs2pJbQ"
      },
      "execution_count": null,
      "outputs": []
    },
    {
      "cell_type": "markdown",
      "source": [
        "# set"
      ],
      "metadata": {
        "id": "rh2iZpHECzkY"
      }
    },
    {
      "cell_type": "code",
      "source": [
        "import shutil\n",
        "shutil.copy('','/content/workspace/data_src.mp4')\n",
        "\n",
        "!python /content/bonanzi/main.py videoed extract-video --input-file /content/workspace/data_src.* --fps 12 --output-ext jpg --output-dir /content/workspace/data_src/"
      ],
      "metadata": {
        "id": "2ni-tI32CzkY"
      },
      "execution_count": null,
      "outputs": []
    },
    {
      "cell_type": "code",
      "source": [
        "!rm -r /content/workspace/data_src.mp4\n",
        "import os\n",
        "import glob\n",
        "path = \"/content/workspace/data_src\"\n",
        "files = glob.glob(path + '/*.jpg')\n",
        "for f in files:\n",
        "    os.rename(f, os.path.join(path, 'las' + os.path.basename(f)))"
      ],
      "metadata": {
        "id": "yzOMUokaCzkZ"
      },
      "execution_count": null,
      "outputs": []
    },
    {
      "cell_type": "code",
      "source": [
        "!python /content/bonanzi/main.py extract --max-faces-from-image 2 --image-size 640 --jpeg-quality 100 --input-dir /content/workspace/data_src --output-dir /content/workspace/data_src/aligned --force-gpu-idxs 0 --face-type whole_face --detector s3fd --no-output-debug\n",
        "\n",
        "!python /content/bonanzi/main.py util --input-dir /content/workspace/data_src/aligned  --pack-faceset --archive-type pak\n",
        "\n",
        "!install -D /content/workspace/data_src/aligned/faceset.pak /content/drive/MyDrive/work//faceset.pak\n",
        "\n",
        "!rm -r /content/workspace/data_src"
      ],
      "metadata": {
        "id": "H9EbG2tGCzkZ"
      },
      "execution_count": null,
      "outputs": []
    },
    {
      "cell_type": "markdown",
      "source": [
        "# set"
      ],
      "metadata": {
        "id": "m48isk_tC0Co"
      }
    },
    {
      "cell_type": "code",
      "source": [
        "import shutil\n",
        "shutil.copy('','/content/workspace/data_src.mp4')\n",
        "\n",
        "!python /content/bonanzi/main.py videoed extract-video --input-file /content/workspace/data_src.* --fps 12 --output-ext jpg --output-dir /content/workspace/data_src/"
      ],
      "metadata": {
        "id": "4W_YhwlrC0Co"
      },
      "execution_count": null,
      "outputs": []
    },
    {
      "cell_type": "code",
      "source": [
        "!rm -r /content/workspace/data_src.mp4\n",
        "import os\n",
        "import glob\n",
        "path = \"/content/workspace/data_src\"\n",
        "files = glob.glob(path + '/*.jpg')\n",
        "for f in files:\n",
        "    os.rename(f, os.path.join(path, 'las' + os.path.basename(f)))"
      ],
      "metadata": {
        "id": "jiSCKkobC0Cp"
      },
      "execution_count": null,
      "outputs": []
    },
    {
      "cell_type": "code",
      "source": [
        "!python /content/bonanzi/main.py extract --max-faces-from-image 2 --image-size 640 --jpeg-quality 100 --input-dir /content/workspace/data_src --output-dir /content/workspace/data_src/aligned --force-gpu-idxs 0 --face-type whole_face --detector s3fd --no-output-debug\n",
        "\n",
        "!python /content/bonanzi/main.py util --input-dir /content/workspace/data_src/aligned  --pack-faceset --archive-type pak\n",
        "\n",
        "!install -D /content/workspace/data_src/aligned/faceset.pak /content/drive/MyDrive/work//faceset.pak\n",
        "\n",
        "!rm -r /content/workspace/data_src"
      ],
      "metadata": {
        "id": "Mo1WHiHAC0Cp"
      },
      "execution_count": null,
      "outputs": []
    }
  ],
  "metadata": {
    "accelerator": "GPU",
    "colab": {
      "collapsed_sections": [
        "9TSzwNeACltS",
        "rh2iZpHECzkY",
        "m48isk_tC0Co"
      ],
      "provenance": [],
      "toc_visible": true
    },
    "kernelspec": {
      "display_name": "Python 3",
      "name": "python3"
    }
  },
  "nbformat": 4,
  "nbformat_minor": 0
}