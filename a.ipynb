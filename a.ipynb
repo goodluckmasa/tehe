{
  "cells": [
    {
      "cell_type": "code",
      "execution_count": null,
      "metadata": {
        "id": "WJe71S6gbzt3"
      },
      "outputs": [],
      "source": [
        "!nvidia-smi"
      ]
    },
    {
      "cell_type": "markdown",
      "metadata": {
        "id": "l_0mLjppHioU"
      },
      "source": [
        "# GD"
      ]
    },
    {
      "cell_type": "code",
      "execution_count": null,
      "metadata": {
        "id": "BYwUUegt3-Kv"
      },
      "outputs": [],
      "source": [
        "from google.colab import drive\n",
        "drive.mount('/content/drive')"
      ]
    },
    {
      "cell_type": "code",
      "execution_count": null,
      "metadata": {
        "id": "oo1M5GRMHbjj"
      },
      "outputs": [],
      "source": [
        "#@title another1\n",
        "!sudo add-apt-repository -y ppa:alessandro-strada/ppa 2>&1 > /dev/null\n",
        "!sudo apt-get update -qq 2>&1 > /dev/null\n",
        "!sudo apt -y install -qq google-drive-ocamlfuse 2>&1 > /dev/null\n",
        "!google-drive-ocamlfuse"
      ]
    },
    {
      "cell_type": "code",
      "execution_count": null,
      "metadata": {
        "id": "5Pzi6FGDHduS"
      },
      "outputs": [],
      "source": [
        "#@title another2\n",
        "!sudo apt-get install -qq w3m # to act as web browser \n",
        "!xdg-settings set default-web-browser w3m.desktop # to set default browser\n",
        "%cd /content\n",
        "!mkdir drive\n",
        "%cd drive\n",
        "!mkdir MyDrive\n",
        "%cd ..\n",
        "%cd ..\n",
        "!google-drive-ocamlfuse /content/drive/MyDrive"
      ]
    },
    {
      "cell_type": "markdown",
      "metadata": {
        "id": "EKJV67v6Eqba"
      },
      "source": [
        "# train set"
      ]
    },
    {
      "cell_type": "code",
      "execution_count": null,
      "metadata": {
        "cellView": "form",
        "collapsed": true,
        "id": "9PwDd16iFIrs"
      },
      "outputs": [],
      "source": [
        "#@title Training\n",
        "Model = \"SAEHD\" #@param [\"AMP\",\"SAEHD\", \"Quick96\", \"XSeg\"]\n",
        "Backup_every_hour = True #@param {type:\"boolean\"}\n",
        "Silent_Start = True #@param {type:\"boolean\"}\n",
        "\n",
        "%cd \"/content/workspace\"\n",
        "\n",
        "#Mount Google Drive as folder\n",
        "from google.colab import drive\n",
        "drive.mount('/content/drive')\n",
        "\n",
        "import psutil, os, time\n",
        "\n",
        "p = psutil.Process(os.getpid())\n",
        "uptime = time.time() - p.create_time()\n",
        "\n",
        "if (Backup_every_hour):\n",
        "  print(\"Time to end session: \"+str(round((86400-uptime)/3600))+\" hours\")\n",
        "  backup_time = str(14120)\n",
        "  backup_cmd = \" --execute-program -\"+backup_time+\" \\\"import os; os.system('zip -r -q /content/model.zip model'); os.system('cp /content/model.zip /content/drive/My\\ Drive/'); print('Backed up!') \\\"\" \n",
        "elif (round(82080-uptime) > 0):\n",
        "  print(\"Time to backup: \"+str(round((82080-uptime)/3600))+\" hours\")\n",
        "  backup_time = str(round(82080-uptime))\n",
        "  backup_cmd = \" --execute-program \"+backup_time+\" \\\"import os; os.system('zip -r -q /content/model.zip model'); os.system('cp /content/model.zip /content/drive/My\\ Drive/'); print('Backed up!') \\\"\" \n",
        "else:\n",
        "  print(\"Session expires in less than an hour.\")\n",
        "  backup_cmd = \"\"\n",
        "    \n",
        "cmd = \"/content/bonanzi/main.py train --training-data-src-dir /content/workspace/data_src/aligned --training-data-dst-dir /content/workspace/data_dst/aligned --pretraining-data-dir /content/pretrain --model-dir /content/workspace/model --model \"+Model\n",
        "\n",
        "if Model == \"Quick96\":\n",
        "  cmd+= \" --pretrained-model-dir pretrain_Q96\"\n",
        "\n",
        "if Silent_Start:\n",
        "  cmd+= \" --silent-start\"\n",
        "\n",
        "if (backup_cmd != \"\"):\n",
        "  train_cmd = (cmd+backup_cmd)\n",
        "else:\n",
        "  train_cmd = (cmd)\n",
        "\n",
        "!python $train_cmd"
      ]
    },
    {
      "cell_type": "code",
      "execution_count": null,
      "metadata": {
        "id": "evKlQfiE8I2T"
      },
      "outputs": [],
      "source": [
        "#@title Install custom\n",
        "%cd /content\n",
        "Mode = \"install\" #@param [\"install\", \"update\"]\n",
        "\n",
        "from pathlib import Path\n",
        "if (Mode == \"install\"):\n",
        "  !git clone https://github.com/goodluckmasa/bonanzi.git\n",
        "\n",
        "  # fix linux warning\n",
        "  # /usr/lib/python3.6/multiprocessing/semaphore_tracker.py:143: UserWarning: semaphore_tracker: There appear to be 1 leaked semaphores to clean up at shutdown\n",
        "  fin = open(\"/usr/lib/python3.6/multiprocessing/semaphore_tracker.py\", \"rt\")\n",
        "  data = fin.read()\n",
        "  data = data.replace('if cache:', 'if False:')\n",
        "  fin.close()\n",
        "\n",
        "  fin = open(\"/usr/lib/python3.6/multiprocessing/semaphore_tracker.py\", \"wt\")\n",
        "  fin.write(data)\n",
        "  fin.close()\n",
        "else:\n",
        "  %cd /content/bonanzi\n",
        "  !git pull\n",
        "\n",
        "!pip uninstall -y tensorflow\n",
        "!pip install -r /content/bonanzi/requirements-colab.txt\n",
        "!pip install --upgrade scikit-image\n",
        "!apt-get install cuda-10-0\n",
        "!pip install numpy --upgrade --ignore-installed\n",
        "\n",
        "if not Path(\"/content/workspace\").exists():\n",
        "  !mkdir /content/workspace; mkdir /content/workspace/data_src; mkdir /content/workspace/data_src/aligned; mkdir /content/workspace/data_dst; mkdir /content/workspace/data_dst/aligned; mkdir /content/workspace/model  \n",
        "\n",
        "import IPython\n",
        "from google.colab import output\n",
        "\n",
        "display(IPython.display.Javascript('''\n",
        " function ClickConnect(){\n",
        "   btn = document.querySelector(\"colab-connect-button\")\n",
        "   if (btn != null){\n",
        "     console.log(\"Click colab-connect-button\"); \n",
        "     btn.click() \n",
        "     }\n",
        "   \n",
        "   btn = document.getElementById('ok')\n",
        "   if (btn != null){\n",
        "     console.log(\"Click reconnect\"); \n",
        "     btn.click() \n",
        "     }\n",
        "  }\n",
        "  \n",
        "setInterval(ClickConnect,60000)\n",
        "'''))\n",
        "\n",
        "print(\"\\nDone!\")"
      ]
    },
    {
      "cell_type": "code",
      "execution_count": null,
      "metadata": {
        "cellView": "form",
        "id": "mcktOlaaG5pQ"
      },
      "outputs": [],
      "source": [
        "#@title change from yaw to pitch\n",
        "\n",
        "from pathlib import Path\n",
        "\n",
        "src_file = Path('/content/bonanzi/samplelib/SampleGeneratorFace.py')\n",
        "dst_file = Path('/content/bonanzi/samplelib/alpha.tmp')\n",
        "\n",
        "with src_file.open() as fin, \\\n",
        "     dst_file.open(mode='x') as fout:\n",
        "\n",
        "     fout.write(\n",
        "         fin.read().replace('s_yaw = -pyr[1]', 's_yaw = -pyr[0]')\n",
        "     )\n",
        "\n",
        "\n",
        "dst_file.replace(\n",
        "    src_file\n",
        ")\n"
      ]
    },
    {
      "cell_type": "code",
      "execution_count": null,
      "metadata": {
        "cellView": "form",
        "id": "jZht0HCZZl0A"
      },
      "outputs": [],
      "source": [
        "#@title Import Model\n",
        "\n",
        "from google.colab import drive\n",
        "drive.mount('/content/drive', force_remount=True)\n",
        "\n",
        "!cp /content/drive/MyDrive/model.zip /content\n",
        "!unzip -q /content/model.zip -d /content/workspace"
      ]
    },
    {
      "cell_type": "code",
      "execution_count": null,
      "metadata": {
        "id": "3TF_NWBcPrui"
      },
      "outputs": [],
      "source": [
        "!cp /content/drive/MyDrive/data_src/faceset.pak /content/workspace/data_src/aligned\n",
        "\n",
        "!cp /content/drive/MyDrive/data_dst/faceset.pak /content/workspace/data_dst/aligned"
      ]
    },
    {
      "cell_type": "code",
      "execution_count": null,
      "metadata": {
        "cellView": "form",
        "id": "qzmBlENqg8Ar"
      },
      "outputs": [],
      "source": [
        "#@title get FFHQ pretrain from github\n",
        "!wget -q --no-check-certificate -r 'https://github.com/goodluckmasa/colab/releases/download/test/faceset.zip' -O /content/faceset.zip\n",
        "!mkdir /content/pretrain\n",
        "!unzip -q /content/faceset.zip -d /content/pretrain/\n",
        "!rm /content/faceset.zip\n"
      ]
    },
    {
      "cell_type": "code",
      "execution_count": null,
      "metadata": {
        "cellView": "form",
        "id": "LEaeBGJu4k5u"
      },
      "outputs": [],
      "source": [
        "#@title power pretrain\n",
        "!mkdir /content/pretrain\n",
        "!cp /content/drive/MyDrive/pretrain/faceset.pak /content/pretrain/faceset.pak"
      ]
    },
    {
      "cell_type": "markdown",
      "metadata": {
        "id": "FJtIkvmFC-dH"
      },
      "source": [
        "# another"
      ]
    },
    {
      "cell_type": "code",
      "execution_count": null,
      "metadata": {
        "cellView": "form",
        "id": "QdCPTZWYczTn"
      },
      "outputs": [],
      "source": [
        "#@title Import Model\n",
        "\n",
        "\n",
        "!cp /content/drive/MyDrive/model.zip /content\n",
        "!unzip -q /content/model.zip -d /content/workspace"
      ]
    },
    {
      "cell_type": "code",
      "execution_count": null,
      "metadata": {
        "id": "99mEChZuc2lP"
      },
      "outputs": [],
      "source": [
        "!cp /content/drive/MyDrive/data_src/faceset.pak /content/workspace/data_src/aligned/faceset.pak\n",
        "\n",
        "!cp /content/drive/MyDrive/data_dst/faceset.pak /content/workspace/data_dst/aligned/faceset.pak"
      ]
    },
    {
      "cell_type": "code",
      "execution_count": null,
      "metadata": {
        "cellView": "form",
        "id": "vHEyqCQzde8a"
      },
      "outputs": [],
      "source": [
        "#@title change from yaw to pitch\n",
        "\n",
        "from pathlib import Path\n",
        "\n",
        "src_file = Path('/content/bonanzi/samplelib/SampleGeneratorFace.py')\n",
        "dst_file = Path('/content/bonanzi/samplelib/alpha.tmp')\n",
        "\n",
        "with src_file.open() as fin, \\\n",
        "     dst_file.open(mode='x') as fout:\n",
        "\n",
        "     fout.write(\n",
        "         fin.read().replace('s_yaw = -pyr[1]', 's_yaw = -pyr[0]')\n",
        "     )\n",
        "\n",
        "\n",
        "dst_file.replace(\n",
        "    src_file\n",
        ")\n"
      ]
    },
    {
      "cell_type": "code",
      "execution_count": null,
      "metadata": {
        "cellView": "form",
        "id": "fWE9Izx6dgT1"
      },
      "outputs": [],
      "source": [
        "#@title get FFHQ pretrain from github\n",
        "!wget -q --no-check-certificate -r 'https://github.com/goodluckmasa/colab/releases/download/test/faceset.zip' -O /content/faceset.zip\n",
        "!mkdir /content/pretrain\n",
        "!unzip -q /content/faceset.zip -d /content/pretrain/\n",
        "!rm /content/faceset.zip\n"
      ]
    },
    {
      "cell_type": "markdown",
      "metadata": {
        "id": "ctEvEMRDFxLt"
      },
      "source": [
        "# extract prepare"
      ]
    },
    {
      "cell_type": "code",
      "execution_count": null,
      "metadata": {
        "cellView": "form",
        "id": "Qq__cRcVGUoB"
      },
      "outputs": [],
      "source": [
        "#@title Install\n",
        "%cd /content\n",
        "Mode = \"install\" #@param [\"install\", \"update\"]\n",
        "\n",
        "from pathlib import Path\n",
        "if (Mode == \"install\"):\n",
        "  !git clone -b test https://github.com/goodluckmasa/bonanzi.git\n",
        "\n",
        "  # fix linux warning\n",
        "  # /usr/lib/python3.6/multiprocessing/semaphore_tracker.py:143: UserWarning: semaphore_tracker: There appear to be 1 leaked semaphores to clean up at shutdown\n",
        "  fin = open(\"/usr/lib/python3.6/multiprocessing/semaphore_tracker.py\", \"rt\")\n",
        "  data = fin.read()\n",
        "  data = data.replace('if cache:', 'if False:')\n",
        "  fin.close()\n",
        "\n",
        "  fin = open(\"/usr/lib/python3.6/multiprocessing/semaphore_tracker.py\", \"wt\")\n",
        "  fin.write(data)\n",
        "  fin.close()\n",
        "else:\n",
        "  %cd /content/bonanzi\n",
        "  !git pull\n",
        "\n",
        "!pip uninstall -y tensorflow\n",
        "!pip install -r /content/bonanzi/requirements-colab.txt\n",
        "!pip install --upgrade scikit-image\n",
        "!apt-get install cuda-10-0\n",
        "!pip install numpy --upgrade --ignore-installed\n",
        "\n",
        "if not Path(\"/content/workspace\").exists():\n",
        "  !mkdir /content/workspace; mkdir /content/workspace/data_src; mkdir /content/workspace/data_src/aligned; mkdir /content/workspace/data_dst; mkdir /content/workspace/data_dst/aligned; mkdir /content/workspace/model  \n",
        "\n",
        "import IPython\n",
        "from google.colab import output\n",
        "\n",
        "display(IPython.display.Javascript('''\n",
        " function ClickConnect(){\n",
        "   btn = document.querySelector(\"colab-connect-button\")\n",
        "   if (btn != null){\n",
        "     console.log(\"Click colab-connect-button\"); \n",
        "     btn.click() \n",
        "     }\n",
        "   \n",
        "   btn = document.getElementById('ok')\n",
        "   if (btn != null){\n",
        "     console.log(\"Click reconnect\"); \n",
        "     btn.click() \n",
        "     }\n",
        "  }\n",
        "  \n",
        "setInterval(ClickConnect,60000)\n",
        "'''))\n",
        "\n",
        "print(\"\\nDone!\")"
      ]
    },
    {
      "cell_type": "code",
      "execution_count": null,
      "metadata": {
        "cellView": "form",
        "id": "sofOgffqGyas"
      },
      "outputs": [],
      "source": [
        "#@title extrract 1080P\n",
        "\n",
        "from pathlib import Path\n",
        "\n",
        "src_file = Path('/content/bonanzi/facelib/S3FDExtractor.py')\n",
        "dst_file = Path('/content/bonanzi/facelib/alpha.tmp')\n",
        "\n",
        "with src_file.open() as fin, \\\n",
        "     dst_file.open(mode='x') as fout:\n",
        "\n",
        "     fout.write(\n",
        "         fin.read().replace('if min(r-l,bt) < 40: #filtering faces < 40pix by any side', 'if min(r-l,bt) < 340: #filtering faces < 40pix by any side')\n",
        "     )\n",
        "\n",
        "\n",
        "dst_file.replace(\n",
        "    src_file\n",
        ")"
      ]
    },
    {
      "cell_type": "code",
      "execution_count": null,
      "metadata": {
        "cellView": "form",
        "id": "uoR8Y6gSIMqC"
      },
      "outputs": [],
      "source": [
        "#@title extrract 2160P\n",
        "\n",
        "from pathlib import Path\n",
        "\n",
        "src_file = Path('/content/bonanzi/facelib/S3FDExtractor.py')\n",
        "dst_file = Path('/content/bonanzi/facelib/alpha.tmp')\n",
        "\n",
        "with src_file.open() as fin, \\\n",
        "     dst_file.open(mode='x') as fout:\n",
        "\n",
        "     fout.write(\n",
        "         fin.read().replace('if min(r-l,bt) < 40: #filtering faces < 40pix by any side', 'if min(r-l,bt) < 600: #filtering faces < 600pix by any side')\n",
        "     )\n",
        "\n",
        "\n",
        "dst_file.replace(\n",
        "    src_file\n",
        ")"
      ]
    },
    {
      "cell_type": "code",
      "execution_count": null,
      "metadata": {
        "cellView": "form",
        "id": "9tYrO0WzJXbG"
      },
      "outputs": [],
      "source": [
        "#@title extrract dst\n",
        "\n",
        "from pathlib import Path\n",
        "\n",
        "src_file = Path('/content/bonanzi/facelib/S3FDExtractor.py')\n",
        "dst_file = Path('/content/bonanzi/facelib/alpha.tmp')\n",
        "\n",
        "with src_file.open() as fin, \\\n",
        "     dst_file.open(mode='x') as fout:\n",
        "\n",
        "     fout.write(\n",
        "         fin.read().replace('if min(r-l,bt) < 40: #filtering faces < 40pix by any side', 'if min(r-l,bt) < 180: #filtering faces < 600pix by any side')\n",
        "     )\n",
        "\n",
        "\n",
        "dst_file.replace(\n",
        "    src_file\n",
        ")"
      ]
    },
    {
      "cell_type": "code",
      "execution_count": null,
      "metadata": {
        "cellView": "form",
        "id": "-JEuzLXIejUs"
      },
      "outputs": [],
      "source": [
        "#@title install gpen\n",
        "\n",
        "!git clone https://github.com/Cioscos/GPEN-Cioscos.git\n",
        "!mkdir /content/input\n",
        "!mkdir /content/weights\n",
        "!wget -q --no-check-certificate -r 'https://github.com/goodluckmasa/colab/releases/download/gpen/GPEN-BFR-256-D.pth' -O /content/weights/GPEN-BFR-256-D.pth\n",
        "!wget -q --no-check-certificate -r 'https://github.com/goodluckmasa/colab/releases/download/gpen/GPEN-BFR-256.pth' -O /content/weights/GPEN-BFR-256.pth\n",
        "!wget -q --no-check-certificate -r 'https://github.com/goodluckmasa/colab/releases/download/gpen/GPEN-BFR-512-D.pth' -O /content/weights/GGPEN-BFR-512-D.pth\n",
        "!wget -q --no-check-certificate -r 'https://github.com/goodluckmasa/colab/releases/download/gpen/GPEN-BFR-512.pth' -O /content//weights/GPEN-BFR-512.pth\n",
        "!wget -q --no-check-certificate -r 'https://github.com/goodluckmasa/colab/releases/download/gpen/GPEN-Colorization-1024.pth' -O /content/weights/GPEN-Colorization-1024.pth\n",
        "!wget -q --no-check-certificate -r 'https://github.com/goodluckmasa/colab/releases/download/gpen/GGPEN-Inpainting-1024.pth' -O /content/weights/GPEN-Inpainting-1024.pth\n",
        "!wget -q --no-check-certificate -r 'https://github.com/goodluckmasa/colab/releases/download/gpen/GPEN-Seg2face-512.pth' -O /content/weights/GPEN-Seg2face-512.pth\n",
        "!wget -q --no-check-certificate -r 'https://github.com/goodluckmasa/colab/releases/download/gpen/model_ir_se50.pth' -O /content//weights/model_ir_se50.pth\n",
        "!wget -q --no-check-certificate -r 'https://github.com/goodluckmasa/colab/releases/download/gpen/ParseNet-latest.pth' -O /content/weights/ParseNet-latest.pth\n",
        "!wget -q --no-check-certificate -r 'https://github.com/goodluckmasa/colab/releases/download/gpen/RetinaFace-R50.pth' -O /content//weights/RetinaFace-R50.pth\n",
        "!wget -q --no-check-certificate -r 'https://github.com/goodluckmasa/colab/releases/download/gpen/rrdb_realesrnet_psnr.pth' -O /content/weights/rrdb_realesrnet_psnr.pth\n",
        "!echo -e \"opencv-python\\nnumpy\\nscikit-image\\npillow\\nninja\\ntorch\\ntorchvision\\nopencv-python\\nscipy\\ntqdm\" >> /content/requirement.txt\n",
        "!pip3 install -r /content/requirement.txt\n",
        "\n"
      ]
    },
    {
      "cell_type": "code",
      "execution_count": null,
      "metadata": {
        "cellView": "form",
        "id": "LYtAlYRPoK1A"
      },
      "outputs": [],
      "source": [
        "#@title modify py\n",
        "\n",
        "from pathlib import Path\n",
        "\n",
        "src_file = Path('/content/GPEN-Cioscos/face_enhancement.py')\n",
        "dst_file = Path('/content/GPEN-Cioscos/alpha.py')\n",
        "\n",
        "with src_file.open() as fin, \\\n",
        "     dst_file.open(mode='x') as fout:\n",
        "\n",
        "     fout.write(\n",
        "         fin.read().replace('import __download_weights', '')\n",
        "     )\n",
        "\n",
        "\n",
        "dst_file.replace(\n",
        "    src_file\n",
        ")"
      ]
    },
    {
      "cell_type": "markdown",
      "metadata": {
        "id": "WY36I6gxIkOf"
      },
      "source": [
        "# extract dst"
      ]
    },
    {
      "cell_type": "code",
      "execution_count": null,
      "metadata": {
        "id": "tQn2KXnfIk9v"
      },
      "outputs": [],
      "source": [
        "import shutil\n",
        "shutil.copy('','/content/workspace/data_src.mp4')\n",
        "\n",
        "!python /content/bonanzi/main.py videoed extract-video --input-file /content/workspace/data_src.* --fps 0 --output-ext jpg --output-dir /content/workspace/data_src/"
      ]
    },
    {
      "cell_type": "code",
      "execution_count": null,
      "metadata": {
        "id": "89jdzoF2IsrK"
      },
      "outputs": [],
      "source": [
        "!python /content/bonanzi/main.py extract --max-faces-from-image 2 --image-size 640 --jpeg-quality 100 --input-dir /content/workspace/data_src --output-dir /content/workspace/data_src/aligned --force-gpu-idxs 0 --face-type whole_face --detector s3fd --no-output-debug\n",
        "\n",
        "!python /content/bonanzi/main.py util --input-dir /content/workspace/data_src/aligned  --pack-faceset\n",
        "\n",
        "!install -D /content/workspace/data_src/aligned/faceset.pak /content/drive/MyDrive/work//faceset.pak\n",
        "\n",
        "!rm -r /content/workspace/data_src"
      ]
    },
    {
      "cell_type": "markdown",
      "metadata": {
        "id": "oKwa8k1Cwr3S"
      },
      "source": [
        "# faceset"
      ]
    },
    {
      "cell_type": "code",
      "execution_count": null,
      "metadata": {
        "id": "ZWJTqfLmIkGl"
      },
      "outputs": [],
      "source": [
        "import shutil\n",
        "shutil.copy('','/content/workspace/data_src.mp4')\n",
        "\n",
        "!python /content/bonanzi/main.py videoed extract-video --input-file /content/workspace/data_src.* --fps 12 --output-ext jpg --output-dir /content/workspace/data_src/"
      ]
    },
    {
      "cell_type": "code",
      "execution_count": null,
      "metadata": {
        "id": "nSLqTqdTOilW"
      },
      "outputs": [],
      "source": [
        "!rm -r /content/workspace/data_src.mp4\n",
        "import os\n",
        "import glob\n",
        "path = \"/content/workspace/data_src\"\n",
        "files = glob.glob(path + '/*.jpg')\n",
        "for f in files:\n",
        "    os.rename(f, os.path.join(path, 'las' + os.path.basename(f)))"
      ]
    },
    {
      "cell_type": "code",
      "execution_count": null,
      "metadata": {
        "id": "L6xe4qV5waGn"
      },
      "outputs": [],
      "source": [
        "!python /content/bonanzi/main.py extract --max-faces-from-image 2 --image-size 640 --jpeg-quality 100 --input-dir /content/workspace/data_src --output-dir /content/workspace/data_src/aligned --force-gpu-idxs 0 --face-type whole_face --detector s3fd --no-output-debug\n",
        "\n",
        "!python /content/bonanzi/main.py util --input-dir /content/workspace/data_src/aligned  --pack-faceset\n",
        "\n",
        "!install -D /content/workspace/data_src/aligned/faceset.pak /content/drive/MyDrive/work//faceset.pak\n",
        "\n",
        "!rm -r /content/workspace/data_src"
      ]
    },
    {
      "cell_type": "markdown",
      "metadata": {
        "id": "oCNcFQEhJTS2"
      },
      "source": [
        "# faceset"
      ]
    },
    {
      "cell_type": "code",
      "execution_count": null,
      "metadata": {
        "id": "oH_J2lbVJTS9"
      },
      "outputs": [],
      "source": [
        "import shutil\n",
        "shutil.copy('','/content/workspace/data_src.mp4')\n",
        "\n",
        "!python /content/bonanzi/main.py videoed extract-video --input-file /content/workspace/data_src.* --fps 12 --output-ext jpg --output-dir /content/workspace/data_src/"
      ]
    },
    {
      "cell_type": "code",
      "execution_count": null,
      "metadata": {
        "id": "HlW_CbvcJTS-"
      },
      "outputs": [],
      "source": [
        "!rm -r /content/workspace/data_src.mp4\n",
        "import os\n",
        "import glob\n",
        "path = \"/content/workspace/data_src\"\n",
        "files = glob.glob(path + '/*.jpg')\n",
        "for f in files:\n",
        "    os.rename(f, os.path.join(path, 'las' + os.path.basename(f)))"
      ]
    },
    {
      "cell_type": "code",
      "execution_count": null,
      "metadata": {
        "id": "YO1Tl0wiJTS-"
      },
      "outputs": [],
      "source": [
        "!python /content/bonanzi/main.py extract --max-faces-from-image 2 --image-size 640 --jpeg-quality 100 --input-dir /content/workspace/data_src --output-dir /content/workspace/data_src/aligned --force-gpu-idxs 0 --face-type whole_face --detector s3fd --no-output-debug\n",
        "\n",
        "!python /content/bonanzi/main.py util --input-dir /content/workspace/data_src/aligned  --pack-faceset\n",
        "\n",
        "!install -D /content/workspace/data_src/aligned/faceset.pak /content/drive/MyDrive/work//faceset.pak\n",
        "\n",
        "!rm -r /content/workspace/data_src"
      ]
    },
    {
      "cell_type": "markdown",
      "metadata": {
        "id": "NeNBejRSmXCS"
      },
      "source": [
        "# rife\n"
      ]
    },
    {
      "cell_type": "code",
      "execution_count": null,
      "metadata": {
        "id": "65TZbFLUI85Y"
      },
      "outputs": [],
      "source": [
        "!nvidia-smi"
      ]
    },
    {
      "cell_type": "code",
      "execution_count": null,
      "metadata": {
        "id": "1e_i3SMmnLfV"
      },
      "outputs": [],
      "source": [
        "!git clone https://github.com/hzwer/arXiv2020-RIFE"
      ]
    },
    {
      "cell_type": "code",
      "execution_count": null,
      "metadata": {
        "id": "UO33BtsOI-9p"
      },
      "outputs": [],
      "source": [
        "from google.colab import drive\n",
        "drive._mount('/content/drive')"
      ]
    },
    {
      "cell_type": "code",
      "execution_count": null,
      "metadata": {
        "cellView": "form",
        "id": "IGL-U-5wnQDs"
      },
      "outputs": [],
      "source": [
        "#@title model\n",
        "!wget -q --no-check-certificate -r 'https://github.com/goodluckmasa/colab/releases/download/rife/RIFE_trained_model_v3.6.zip' -O /content/RIFE_trained_model_v3.6.zip\n",
        "!7z e RIFE_trained_model_v3.6.zip"
      ]
    },
    {
      "cell_type": "code",
      "execution_count": null,
      "metadata": {
        "cellView": "form",
        "id": "e-_YGFlAnYOG"
      },
      "outputs": [],
      "source": [
        "#@title prepare\n",
        "!mkdir /content/arXiv2020-RIFE/train_log\n",
        "!mv *.pkl *.py /content/arXiv2020-RIFE/train_log/\n",
        "%cd /content/arXiv2020-RIFE/\n",
        "!gdown --id 1i3xlKb7ax7Y70khcTcuePi6E7crO_dFc\n",
        "!pip3 install -r requirements.txt"
      ]
    },
    {
      "cell_type": "code",
      "execution_count": null,
      "metadata": {
        "id": "OhNtA4M2nZKe"
      },
      "outputs": [],
      "source": [
        "!python3 inference_video.py --exp=1 --video="
      ]
    },
    {
      "cell_type": "markdown",
      "metadata": {
        "id": "hqwOlJG4MdLC"
      },
      "source": [
        "# Manage workspace\n",
        "\n",
        "\n",
        "\n",
        "\n"
      ]
    },
    {
      "cell_type": "code",
      "execution_count": null,
      "metadata": {
        "cellView": "form",
        "id": "ignhhr4_N-B2"
      },
      "outputs": [],
      "source": [
        "#@title Import Model\n",
        "\n",
        "from google.colab import drive\n",
        "drive.mount('/content/drive', force_remount=True)\n",
        "\n",
        "!cp /content/drive/MyDrive/model.zip /content\n",
        "!unzip -q /content/model.zip -d /content/workspace"
      ]
    },
    {
      "cell_type": "code",
      "execution_count": null,
      "metadata": {
        "cellView": "form",
        "id": "Ta6ue_UGMkki"
      },
      "outputs": [],
      "source": [
        "#@title Delete and recreate\n",
        "Mode = \"Delete and recreate workspace\" #@param [\"Delete and recreate workspace\", \"Delete models\", \"Delete data_src\", \"Delete data_src aligned\", \"Delete data_src video\", \"Delete data_dst\", \"Delete data_dst aligned\", \"Delete merged frames\"]\n",
        "\n",
        "%cd \"/content\" \n",
        "\n",
        "if Mode == \"Delete and recreate workspace\":\n",
        "  cmd = \"rm -r /content/workspace ; mkdir /content/workspace; mkdir /content/workspace/data_src; mkdir /content/workspace/data_src/aligned; mkdir /content/workspace/data_dst; mkdir /content/workspace/data_dst/aligned; mkdir /content/workspace/model\"  \n",
        "elif Mode == \"Delete models\":\n",
        "  cmd = \"rm -r /content/workspace/model/*\"\n",
        "elif Mode == \"Delete data_src\":\n",
        "  cmd = \"rm /content/workspace/data_src/*.png || rm -r /content/workspace/data_src/*.jpg\"\n",
        "elif Mode == \"Delete data_src aligned\":\n",
        "  cmd = \"rm -r /content/workspace/data_src/aligned/*\"\n",
        "elif Mode == \"Delete data_src video\":\n",
        "  cmd = \"rm -r /content/workspace/data_src.*\"\n",
        "elif Mode == \"Delete data_dst\":\n",
        "  cmd = \"rm /content/workspace/data_dst/*.png || rm /content/workspace/data_dst/*.jpg\"\n",
        "elif Mode == \"Delete data_dst aligned\":\n",
        "  cmd = \"rm -r /content/workspace/data_dst/aligned/*\"\n",
        "elif Mode == \"Delete merged frames\":\n",
        "  cmd = \"rm -r /content/workspace/data_dst/merged; rm -r /content/workspace/data_dst/merged_mask\"\n",
        "  \n",
        "!$cmd\n",
        "print(\"Done!\")"
      ]
    },
    {
      "cell_type": "markdown",
      "metadata": {
        "id": "fCze_fbvuKM-"
      },
      "source": [
        "# dfd"
      ]
    },
    {
      "cell_type": "code",
      "execution_count": null,
      "metadata": {
        "cellView": "form",
        "id": "1A0oX_LIve37"
      },
      "outputs": [],
      "source": [
        "#@title Prepare Colab machine\n",
        "!pip install dominate\n",
        "\n",
        "from IPython.display import clear_output\n",
        "from google.colab import files\n",
        "from PIL import Image\n",
        "import matplotlib.pyplot as plt\n",
        "import warnings\n",
        "import os\n",
        "\n",
        "warnings.filterwarnings(\"ignore\")\n",
        "%matplotlib inline\n",
        "\n",
        "!rm -rf /content/sample_data\n",
        "!git clone --branch size https://github.com/goodluckmasa/DFDNet.git\n",
        "\n",
        "os.chdir('/content/DFDNet/')\n",
        "!pip install -r requirements.txt\n",
        "\n",
        "link_prefix = 'https://github.com/rocketsvm/DFDNet/releases/download/20200827/'\n",
        "wget_options = '-q --show-progress --progress=bar:noscroll --no-check-certificate -r'\n",
        "!wget $wget_options $link_prefix'latest_net_G.pth' -O 'latest_net_G.pth'\n",
        "!wget $wget_options $link_prefix'left_eye_32_center.npy' -O 'left_eye_32_center.npy'\n",
        "!wget $wget_options $link_prefix'left_eye_64_center.npy' -O 'left_eye_64_center.npy'\n",
        "!wget $wget_options $link_prefix'left_eye_128_center.npy' -O 'left_eye_128_center.npy'\n",
        "!wget $wget_options $link_prefix'left_eye_256_center.npy' -O 'left_eye_256_center.npy'\n",
        "!wget $wget_options $link_prefix'right_eye_32_center.npy' -O 'right_eye_32_center.npy'\n",
        "!wget $wget_options $link_prefix'right_eye_64_center.npy' -O 'right_eye_64_center.npy'\n",
        "!wget $wget_options $link_prefix'right_eye_128_center.npy' -O 'right_eye_128_center.npy'\n",
        "!wget $wget_options $link_prefix'right_eye_256_center.npy' -O 'right_eye_256_center.npy'\n",
        "!wget $wget_options $link_prefix'mouth_32_center.npy' -O 'mouth_32_center.npy'\n",
        "!wget $wget_options $link_prefix'mouth_64_center.npy' -O 'mouth_64_center.npy'\n",
        "!wget $wget_options $link_prefix'mouth_128_center.npy' -O 'mouth_128_center.npy'\n",
        "!wget $wget_options $link_prefix'mouth_256_center.npy' -O 'mouth_256_center.npy'\n",
        "!wget $wget_options $link_prefix'nose_32_center.npy' -O 'nose_32_center.npy'\n",
        "!wget $wget_options $link_prefix'nose_64_center.npy' -O 'nose_64_center.npy'\n",
        "!wget $wget_options $link_prefix'nose_128_center.npy' -O 'nose_128_center.npy'\n",
        "!wget $wget_options $link_prefix'nose_256_center.npy' -O 'nose_256_center.npy'\n",
        "!wget $wget_options $link_prefix'vgg19.pth' -O 'vgg19.pth'\n",
        "!mkdir -p /content/DFDNet/checkpoints/facefh_dictionary\n",
        "!mv latest_net_G.pth /content/DFDNet/checkpoints/facefh_dictionary\n",
        "!mkdir -p /content/DFDNet/DictionaryCenter512\n",
        "!mv *_center.npy /content/DFDNet/DictionaryCenter512\n",
        "!mkdir -p /content/DFDNet/weights\n",
        "!mv vgg19.pth /content/DFDNet/weights\n",
        "\n",
        "!nvidia-smi -L\n",
        "\n",
        "# print(\"0%/100%   Copying has started and will take about 4 minutes.\")\n",
        "# !rsync -ah --progress '/content/drive/My Drive/DFDNet/checkpoints/facefh_dictionary/latest_net_G.pth' '/content/DFDNet/checkpoints/facefh_dictionary'\n",
        "# print(\"33%/100%  Checkpoints copied\")\n",
        "# !rsync -ah --progress  '/content/drive/My Drive/DFDNet/weights/vgg19.pth' '/content/DFDNet/weights/'\n",
        "# print(\"66%/100%  Weights copied\")\n",
        "# !rsync -ah --progress -r '/content/drive/My Drive/DFDNet/DictionaryCenter512/' '/content/DFDNet/DictionaryCenter512/'\n",
        "# print(\"100%/100% Dictionary copied\")"
      ]
    },
    {
      "cell_type": "code",
      "execution_count": null,
      "metadata": {
        "cellView": "form",
        "id": "XBFabx2TXxiL"
      },
      "outputs": [],
      "source": [
        "#@title move aligned photos\n",
        "!cp -r /content/workspace/data_src/aligned /content/DFDNet/aligned\n",
        "!rm -r /content/workspace/data_src"
      ]
    },
    {
      "cell_type": "code",
      "execution_count": null,
      "metadata": {
        "id": "S_5w6FZZwIW5"
      },
      "outputs": [],
      "source": [
        "!rm -r '/content/DFDNet/aligned'\n",
        "!rm -r '/content/DFDNet/aligned_dfdn'\n",
        "!mkdir '/content/DFDNet/aligned'\n",
        "!mkdir '/content/DFDNet/aligned_dfdn'"
      ]
    },
    {
      "cell_type": "markdown",
      "metadata": {
        "id": "BLHtlmNRCfEk"
      },
      "source": [
        "#pack"
      ]
    },
    {
      "cell_type": "code",
      "execution_count": null,
      "metadata": {
        "cellView": "form",
        "id": "Qjnn9ZLC4fUT"
      },
      "outputs": [],
      "source": [
        "#@title packing\n",
        "Type = \"gpen\" #@param [\"srcdrive\", \"dstdrive\",\"srccontet\",\"dstcontent\",\"dfd\",\"gpen\"]\n",
        "Download = \"false\" #@param [\"false\", \"true\"]\n",
        "\n",
        "if Type == \"srcdrive\":\n",
        "  %cd \"/content\"\n",
        "  !python bonanzi/main.py util --input-dir \"/content/drive/MyDrive/1purlin/barn/workspace/data_src/aligned/\"  --pack-faceset\n",
        "\n",
        "if Type == \"dstdrive\":\n",
        "  %cd \"/content\"\n",
        "  !python bonanzi/main.py util --input-dir \"/content/drive/MyDrive/1purlin/barn/workspace/data_dst/aligned/\"  --pack-faceset\n",
        "\n",
        "if Type == \"srccontet\":\n",
        "  %cd \"/content\"\n",
        "  !python bonanzi/main.py util --input-dir \"workspace/data_src/aligned/\"  --pack-faceset\n",
        "\n",
        "if Type == \"dstcontent\":\n",
        "  %cd \"/content\"\n",
        "  !python bonanzi/main.py util --input-dir \"workspace/data_dst/aligned/\"  --pack-faceset\n",
        "\n",
        "if Type == \"dfd\":\n",
        "  %cd \"/content\"\n",
        "  !python bonanzi/main.py util --input-dir \"DFDNet/aligned_dfdn/\"  --pack-faceset\n",
        "\n",
        "if Type == \"gpen\":\n",
        "  %cd \"/content\"\n",
        "  !python bonanzi/main.py util --input-dir \"/content/results\"  --pack-faceset"
      ]
    },
    {
      "cell_type": "code",
      "execution_count": null,
      "metadata": {
        "id": "A9okyFfWC_PW"
      },
      "outputs": [],
      "source": [
        "#@title move to drive\n",
        "%cd \"/content/results\"\n",
        "!install -D faceset.pak /content/drive/MyDrive/work//faceset.pak\n",
        "%cd"
      ]
    },
    {
      "cell_type": "code",
      "execution_count": null,
      "metadata": {
        "cellView": "form",
        "id": "tLOi-fPRzsAR"
      },
      "outputs": [],
      "source": [
        "#@title del\n",
        "!rm -r '/content/results'\n",
        "!rm -r '/content/input'\n",
        "!mkdir '/content/results'\n",
        "!mkdir '/content/input'"
      ]
    },
    {
      "cell_type": "markdown",
      "metadata": {
        "id": "EJwtv3AnANMx"
      },
      "source": [
        "#merge"
      ]
    },
    {
      "cell_type": "code",
      "execution_count": null,
      "metadata": {
        "cellView": "form",
        "id": "5T5pgPJw-Zha"
      },
      "outputs": [],
      "source": [
        "#@title Merge\n",
        "Model = \"SAEHD\" #@param [\"SAEHD\", \"Quick96\" ]\n",
        "\n",
        "cmd = \"bonanzi/main.py merge --input-dir workspace/data_dst --output-dir workspace/data_dst/merged --output-mask-dir workspace/data_dst/merged_mask --aligned-dir workspace/data_dst/aligned --model-dir workspace/model --model \"+Model\n",
        "\n",
        "%cd \"/content\"\n",
        "!python $cmd"
      ]
    },
    {
      "cell_type": "code",
      "execution_count": null,
      "metadata": {
        "cellView": "form",
        "id": "quf5RLeS-Zha"
      },
      "outputs": [],
      "source": [
        "#@title Get result video \n",
        "Mode = \"result video\" #@param [\"result video\", \"result_mask video\"]\n",
        "Copy_to_Drive = True #@param {type:\"boolean\"}\n",
        "\n",
        "\n",
        "if Mode == \"result video\":\n",
        "  !python bonanzi/main.py videoed video-from-sequence --input-dir workspace/data_dst/merged --output-file workspace/result.mp4 --reference-file workspace/data_dst.mp4 --include-audio\n",
        "  if Copy_to_Drive:\n",
        "    !cp /content/workspace/result.mp4 /content/drive/My\\ Drive/\n",
        "elif Mode == \"result_mask video\":\n",
        "  !python bonanzi/main.py videoed video-from-sequence --input-dir workspace/data_dst/merged_mask --output-file workspace/result_mask.mp4 --reference-file workspace/data_dst.mp4\n",
        "  if Copy_to_Drive:\n",
        "    !cp /content/workspace/result_mask.mp4 /content/drive/My\\ Drive/\n"
      ]
    },
    {
      "cell_type": "markdown",
      "metadata": {
        "id": "GvhsyyfkHU44"
      },
      "source": [
        "# add extract set"
      ]
    },
    {
      "cell_type": "code",
      "execution_count": null,
      "metadata": {
        "id": "MqcJ0L2NHeDT"
      },
      "outputs": [],
      "source": [
        "#@title inmport vid\n",
        "import shutil\n",
        "shutil.copy('','/content/workspace/data_src.mp4')"
      ]
    },
    {
      "cell_type": "code",
      "execution_count": null,
      "metadata": {
        "cellView": "form",
        "id": "vWkeM4yvHfyb"
      },
      "outputs": [],
      "source": [
        "#@title Extract frames\n",
        "Video = \"data_src\" #@param [\"data_src\", \"data_dst\"]\n",
        "\n",
        "%cd \"/content\"\n",
        "\n",
        "cmd = \"bonanzi/main.py videoed extract-video \"\n",
        "\n",
        "if Video == \"data_dst\":\n",
        "  cmd+= \" --input-file workspace/data_dst.* --fps 0 --output-ext jpg --output-dir workspace/data_dst/\"\n",
        "else:\n",
        "  cmd+= \" --input-file workspace/data_src.* --fps 12 --output-ext jpg --output-dir workspace/data_src/\"\n",
        "  \n",
        "!python $cmd"
      ]
    },
    {
      "cell_type": "code",
      "execution_count": null,
      "metadata": {
        "id": "1cXaO4UrHiDE"
      },
      "outputs": [],
      "source": [
        "#@title change frame name\n",
        "import os\n",
        "import glob\n",
        "path = \"/content/workspace/data_src\"\n",
        "files = glob.glob(path + '/*.jpg')\n",
        "for f in files:\n",
        "    os.rename(f, os.path.join(path, 'las' + os.path.basename(f)))\n",
        "!rm -r /content/workspace/data_src.mp4"
      ]
    },
    {
      "cell_type": "code",
      "execution_count": null,
      "metadata": {
        "cellView": "form",
        "id": "QshDjLo2HqG4"
      },
      "outputs": [],
      "source": [
        "#@title Detect faces\n",
        "Data = \"data_src\" #@param [\"data_src\", \"data_dst\"]\n",
        "Detector = \"S3FD (whole face)\" #@param [\"S3FD\", \"S3FD (whole face)\"]\n",
        "Debug = False #@param {type:\"boolean\"}\n",
        "\n",
        "detect_type = \"s3fd\"\n",
        "dbg = \" --output-debug\" if Debug else \" --no-output-debug\"\n",
        "\n",
        "folder = \"workspace/\"+Data\n",
        "folder_aligned = folder+\"/aligned\"\n",
        "\n",
        "cmd = \"bonanzi/main.py extract --max-faces-from-image 2 --image-size 640 --jpeg-quality 100 --input-dir \"+folder+\" --output-dir \"+folder_aligned\n",
        "cmd+=\" --detector \"+detect_type+\" --force-gpu-idxs 0\"+dbg\n",
        "\n",
        "if \"whole face\" in Detector:\n",
        "  cmd+=\" --face-type whole_face\" \n",
        "%cd \"/content\"\n",
        "!python $cmd"
      ]
    },
    {
      "cell_type": "code",
      "execution_count": null,
      "metadata": {
        "cellView": "form",
        "id": "jMRVx_HOwyJ7"
      },
      "outputs": [],
      "source": [
        "#@title aligned to gpen\n",
        "!cp -r /content/workspace/data_src/aligned /content/input\n",
        "!rm -r /content/workspace/data_src"
      ]
    },
    {
      "cell_type": "code",
      "execution_count": null,
      "metadata": {
        "cellView": "form",
        "id": "yu4MEFyMw0u8"
      },
      "outputs": [],
      "source": [
        "#@title run gpen\n",
        "\n",
        "!python /content/GPEN-Cioscos/face_enhancement.py --model GPEN-BFR-512 --use_cuda --indir /content/input --outdir /content/results\n"
      ]
    },
    {
      "cell_type": "code",
      "execution_count": null,
      "metadata": {
        "cellView": "form",
        "id": "WgsEnR91w3vL"
      },
      "outputs": [],
      "source": [
        "#@title packing\n",
        "Type = \"gpen\" #@param [\"srcdrive\", \"dstdrive\",\"srccontet\",\"dstcontent\",\"dfd\",\"gpen\"]\n",
        "Download = \"false\" #@param [\"false\", \"true\"]\n",
        "\n",
        "if Type == \"srcdrive\":\n",
        "  %cd \"/content\"\n",
        "  !python bonanzi/main.py util --input-dir \"/content/drive/MyDrive/1purlin/barn/workspace/data_src/aligned/\"  --pack-faceset\n",
        "\n",
        "if Type == \"dstdrive\":\n",
        "  %cd \"/content\"\n",
        "  !python bonanzi/main.py util --input-dir \"/content/drive/MyDrive/1purlin/barn/workspace/data_dst/aligned/\"  --pack-faceset\n",
        "\n",
        "if Type == \"srccontet\":\n",
        "  %cd \"/content\"\n",
        "  !python bonanzi/main.py util --input-dir \"workspace/data_src/aligned/\"  --pack-faceset\n",
        "\n",
        "if Type == \"dstcontent\":\n",
        "  %cd \"/content\"\n",
        "  !python bonanzi/main.py util --input-dir \"workspace/data_dst/aligned/\"  --pack-faceset\n",
        "\n",
        "if Type == \"dfd\":\n",
        "  %cd \"/content\"\n",
        "  !python bonanzi/main.py util --input-dir \"DFDNet/aligned_dfdn/\"  --pack-faceset\n",
        "\n",
        "if Type == \"gpen\":\n",
        "  %cd \"/content\"\n",
        "  !python bonanzi/main.py util --input-dir \"/content/results\"  --pack-faceset"
      ]
    },
    {
      "cell_type": "code",
      "execution_count": null,
      "metadata": {
        "id": "ZH8YjzWww5LH"
      },
      "outputs": [],
      "source": [
        "#@title move to drive\n",
        "%cd \"/content/results\"\n",
        "!install -D faceset.pak /content/drive/MyDrive/work//faceset.pak\n",
        "%cd"
      ]
    },
    {
      "cell_type": "code",
      "execution_count": null,
      "metadata": {
        "cellView": "form",
        "id": "-a8xzesew6fv"
      },
      "outputs": [],
      "source": [
        "#@title del\n",
        "!rm -r '/content/results'\n",
        "!rm -r '/content/input'\n",
        "!mkdir '/content/results'\n",
        "!mkdir '/content/input'"
      ]
    },
    {
      "cell_type": "code",
      "execution_count": null,
      "metadata": {
        "id": "6WseeA6OI76R"
      },
      "outputs": [],
      "source": [
        "!python /content/bonanzi/main.py extract --max-faces-from-image 2 --image-size 640 --jpeg-quality 100 --input-dir /content/workspace/data_src --output-dir /content/workspace/data_src/aligned --force-gpu-idxs 0 --face-type whole_face --detector s3fd --no-output-debug\n",
        "\n",
        "!cp -r /content/workspace/data_src/aligned /content/input\n",
        "!rm -r /content/workspace/data_src\n",
        "\n",
        "!python /content/GPEN-Cioscos/face_enhancement.py --model GPEN-BFR-512 --use_cuda --indir /content/input --outdir /content/results\n",
        "\n",
        "!python /content/bonanzi/main.py util --input-dir /content/results  --pack-faceset\n",
        "\n",
        "!install -D /content/results/faceset.pak /content/drive/MyDrive/work//faceset.pak\n",
        "\n",
        "!rm -r '/content/results'\n",
        "!rm -r '/content/input'\n",
        "!mkdir '/content/results'\n",
        "!mkdir '/content/input'"
      ]
    }
  ],
  "metadata": {
    "accelerator": "GPU",
    "colab": {
      "collapsed_sections": [
        "EKJV67v6Eqba",
        "FJtIkvmFC-dH",
        "ctEvEMRDFxLt",
        "oKwa8k1Cwr3S",
        "7jqM9NxxxEHx",
        "NeNBejRSmXCS",
        "hqwOlJG4MdLC",
        "TFenLvG4ztFp",
        "fCze_fbvuKM-",
        "MPFH07Wo_1TB",
        "BLHtlmNRCfEk",
        "EJwtv3AnANMx",
        "yfSSVHH-vIJM",
        "GvhsyyfkHU44"
      ],
      "name": "a",
      "provenance": [],
      "toc_visible": true
    },
    "kernelspec": {
      "display_name": "Python 3",
      "name": "python3"
    }
  },
  "nbformat": 4,
  "nbformat_minor": 0
}
